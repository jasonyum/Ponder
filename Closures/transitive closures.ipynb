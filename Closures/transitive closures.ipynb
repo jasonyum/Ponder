{
 "cells": [
  {
   "cell_type": "markdown",
   "metadata": {},
   "source": [
    "# Finding Transitive Closures\n",
    "\n",
    "The transitive closure of a graph is a measure of which vertices are reachable from other vertices. It can be represented as a matrix M, where M[i][j] == 1 if there is a path between vertices i and j, and otherwise 0.\n",
    "\n",
    "For example, suppose we are given the following graph in adjacency list form:\n",
    "\n",
    "\n",
    "```\n",
    "graph = [\n",
    "    [0, 1, 3],\n",
    "    [1, 2],\n",
    "    [2],\n",
    "    [3]\n",
    "]\n",
    "```\n",
    "\n",
    "The transitive closure of this graph would be:\n",
    "\n",
    "```\n",
    "[1, 1, 1, 1]\n",
    "[0, 1, 1, 0]\n",
    "[0, 0, 1, 0]\n",
    "[0, 0, 0, 1]\n",
    "```\n",
    "Given a graph, find its transitive closure..\n",
    "\n",
    "\n",
    "ANS: \n",
    "> Traditionally Floyd-Warshall is used for finding the shortest path between all vertices in a weighted graph. It works in the following way: for any pair of nodes (i, j), check to see if there is an intermediate vertex k such that the cost of getting from i to k to j is less than the current cost of getting from i to j. This is generalized by examining each possible choice of k, and updating every (i, j) cost that can be improved.\n",
    "\n",
    "- We're not concerned with costs but whether it's possible to get from i to j. \n",
    "- So create a matrix called reachable and fill it with 0's, except for connections given in the adjacency matrix that we're provided. "
   ]
  },
  {
   "cell_type": "code",
   "execution_count": 3,
   "metadata": {},
   "outputs": [],
   "source": [
    "def closure(graph): \n",
    "    n = len(graph) \n",
    "    reachable = [[0 for _ in range(n)] for _ in range(n)]\n",
    "    \n",
    "    for i, v in enumerate(graph): \n",
    "        for neighbor in v: \n",
    "            reachable[i][neighbor] = 1\n",
    "            \n",
    "    # this loops through three levels of vertices\n",
    "    # this is what makes this O(V^3) time and matrix uses O(V^2) space\n",
    "    for k in range(n): \n",
    "        for i in range(n): \n",
    "            for j in range(n): \n",
    "                reachable[i][j] |= (reachable[i][k] and reachable[k][j])\n",
    "    \n",
    "    return reachable"
   ]
  },
  {
   "cell_type": "code",
   "execution_count": null,
   "metadata": {},
   "outputs": [],
   "source": [
    "# alternatively... "
   ]
  }
 ],
 "metadata": {
  "kernelspec": {
   "display_name": "Python 3",
   "language": "python",
   "name": "python3"
  },
  "language_info": {
   "codemirror_mode": {
    "name": "ipython",
    "version": 3
   },
   "file_extension": ".py",
   "mimetype": "text/x-python",
   "name": "python",
   "nbconvert_exporter": "python",
   "pygments_lexer": "ipython3",
   "version": "3.6.2"
  }
 },
 "nbformat": 4,
 "nbformat_minor": 2
}
