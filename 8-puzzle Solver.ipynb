{
 "cells": [
  {
   "cell_type": "markdown",
   "metadata": {},
   "source": [
    "## 8-Puzzle Solver\n",
    "\n",
    "An 8-puzzle is a game played on a 3 x 3 board of tiles, with the ninth tile missing. The remaining tiles are labeled 1 through 8 but shuffled randomly. Tiles may slide horizontally or vertically into an empty space, but may not be removed from the board.\n",
    "\n",
    "Design a class to represent the board, and find a series of steps to bring the board to the state..\n",
    "\n",
    "``` \n",
    "[[1, 2, 3], \n",
    " [4, 5, 6], \n",
    " [7, 8, None]].\n",
    " \n",
    "```\n",
    "\n",
    "### Process\n",
    "- Evaluate successor states and select the best one..\n",
    "- track multiple paths, and switch paths if another path is more promising"
   ]
  },
  {
   "cell_type": "code",
   "execution_count": 1,
   "metadata": {},
   "outputs": [],
   "source": [
    "def search(start): \n",
    "    heap = []\n",
    "    visited = set()\n",
    "    heapq.heappush(heap, [start.heuristic, 0, start, '']) \n",
    "    \n",
    "    while heap: \n",
    "        _, moves, board, path = heapq.heappop(heap)\n",
    "        if board.tiles == board.goal: \n",
    "            return moves, path\n",
    "        \n",
    "        visited.add(tuple(board.tiles))\n",
    "        for successor, direction in board.get_moves(): \n",
    "            if tuple(successor.tiles) not in visited: \n",
    "                item = [moves + 1 + successor.heuristic, moves + 1, successor, path + direction]\n",
    "                heapq.heappush(heap, item) \n",
    "    \n",
    "    return None"
   ]
  },
  {
   "cell_type": "code",
   "execution_count": 2,
   "metadata": {},
   "outputs": [],
   "source": [
    "class Board: \n",
    "    def __init__(self, nums, goal = '123456780'): \n",
    "        self.goal = list(map(int, goal))\n",
    "        self.tiles = nums\n",
    "        self.empty = self.tiles.index(0)\n",
    "    \n",
    "    def swap(self, empty, diff):\n",
    "        tiles = copy(self.tiles)\n",
    "        tiles[empty], tiles[empty + diff] = tiles[empty + diff], tiles[empty]\n",
    "        return tiles\n",
    "\n",
    "    def get_moves(self):\n",
    "        successors = []\n",
    "        empty = self.empty\n",
    "\n",
    "        if empty // 3 > 0:\n",
    "            successors.append((Board(self.swap(empty, -3)), 'D'))\n",
    "        if empty // 3 < 2:\n",
    "            successors.append((Board(self.swap(empty, +3)), 'U'))\n",
    "        if empty % 3 > 0:\n",
    "            successors.append((Board(self.swap(empty, -1)), 'R'))\n",
    "        if empty % 3 < 2:\n",
    "            successors.append((Board(self.swap(empty, +1)), 'L'))\n",
    "\n",
    "        return successors"
   ]
  },
  {
   "cell_type": "code",
   "execution_count": null,
   "metadata": {},
   "outputs": [],
   "source": []
  }
 ],
 "metadata": {
  "kernelspec": {
   "display_name": "Python 3",
   "language": "python",
   "name": "python3"
  },
  "language_info": {
   "codemirror_mode": {
    "name": "ipython",
    "version": 3
   },
   "file_extension": ".py",
   "mimetype": "text/x-python",
   "name": "python",
   "nbconvert_exporter": "python",
   "pygments_lexer": "ipython3",
   "version": "3.6.2"
  }
 },
 "nbformat": 4,
 "nbformat_minor": 2
}
