{
 "cells": [
  {
   "cell_type": "code",
   "execution_count": 3,
   "metadata": {},
   "outputs": [],
   "source": [
    "import numpy as np\n",
    "import random\n",
    "import matplotlib.pyplot as plt"
   ]
  },
  {
   "cell_type": "markdown",
   "metadata": {},
   "source": [
    "# Dice Simulation\n",
    "\n",
    "Alice wants to join her school's Probability Student Club. Membership dues are computed via one of two simple probabilistic games. The first game: roll a die repeatedly. Stop rolling once you get a five followed by a six. Your number of rolls is the amount you pay, in dollars. The second game: same, except that the stopping condition is a five followed by a five.\n",
    "\n",
    "Which of the two games should Alice elect to play? Does it even matter? Write a program to simulate the two games and calculate their expected value."
   ]
  },
  {
   "cell_type": "code",
   "execution_count": 38,
   "metadata": {},
   "outputs": [],
   "source": [
    "def game_one(): \n",
    "    tosses = [] \n",
    "    tosses = [random.choice([1,2,3,4,5,6])] # initialize with a toss\n",
    "    condition_met = True\n",
    "    \n",
    "    while condition_met: \n",
    "        roll_result = random.choice([1,2,3,4,5,6]) \n",
    "        tosses.append(roll_result)\n",
    "        # tosses[-2] is the 2nd to last item in the list\n",
    "        # remember, we just put in roll_result as the last item. \n",
    "        if tosses[-2] == 5 and roll_result == 6:    \n",
    "            condition_met = False\n",
    "    \n",
    "    num_tosses = len(tosses) \n",
    "    return num_tosses, tosses[-15:] # give me the last 5 in tosses"
   ]
  },
  {
   "cell_type": "code",
   "execution_count": 39,
   "metadata": {},
   "outputs": [
    {
     "data": {
      "text/plain": [
       "(13, [2, 1, 1, 3, 1, 1, 3, 6, 6, 4, 1, 5, 6])"
      ]
     },
     "execution_count": 39,
     "metadata": {},
     "output_type": "execute_result"
    }
   ],
   "source": [
    "game_one()"
   ]
  },
  {
   "cell_type": "code",
   "execution_count": 40,
   "metadata": {},
   "outputs": [],
   "source": [
    "def game_one_simulation(): \n",
    "    results = [] \n",
    "    n_trials = 1000\n",
    "    \n",
    "    for i in range(n_trials): \n",
    "        num_tosses, _ = game_one() # we don't care about tosses[-5:] now\n",
    "        results.append(num_tosses) \n",
    "    \n",
    "    EV_game = sum(results)/len(results) \n",
    "    return EV_game"
   ]
  },
  {
   "cell_type": "code",
   "execution_count": 41,
   "metadata": {},
   "outputs": [
    {
     "data": {
      "text/plain": [
       "35.988"
      ]
     },
     "execution_count": 41,
     "metadata": {},
     "output_type": "execute_result"
    }
   ],
   "source": [
    "game_one_simulation()"
   ]
  },
  {
   "cell_type": "code",
   "execution_count": 62,
   "metadata": {},
   "outputs": [],
   "source": [
    "def game_two(): \n",
    "    tosses = []\n",
    "    tosses = [random.choice([1,2,3,4,5,6])]\n",
    "    condition_met = True\n",
    "    \n",
    "    while condition_met: \n",
    "        roll_result = random.choice([1,2,3,4,5,6])\n",
    "        tosses.append(roll_result)\n",
    "        if tosses[-2] == 5 and roll_result == 5: \n",
    "            condition_met = False\n",
    "            \n",
    "    num_tosses = len(tosses)\n",
    "    return num_tosses, tosses[-15:] "
   ]
  },
  {
   "cell_type": "code",
   "execution_count": 63,
   "metadata": {},
   "outputs": [
    {
     "data": {
      "text/plain": [
       "(56, [5, 4, 3, 4, 1, 5, 1, 6, 4, 2, 4, 3, 6, 5, 5])"
      ]
     },
     "execution_count": 63,
     "metadata": {},
     "output_type": "execute_result"
    }
   ],
   "source": [
    "game_two()"
   ]
  },
  {
   "cell_type": "code",
   "execution_count": 78,
   "metadata": {},
   "outputs": [],
   "source": [
    "def game_two_simulation(): \n",
    "    results = [] \n",
    "    n_trials = 1000\n",
    "    \n",
    "    for i in range(n_trials): \n",
    "        num_tosses, _ = game_two()\n",
    "        results.append(num_tosses) \n",
    "        \n",
    "    EV_game = sum(results)/len(results)\n",
    "    return EV_game"
   ]
  },
  {
   "cell_type": "code",
   "execution_count": 79,
   "metadata": {},
   "outputs": [
    {
     "data": {
      "text/plain": [
       "40.704"
      ]
     },
     "execution_count": 79,
     "metadata": {},
     "output_type": "execute_result"
    }
   ],
   "source": [
    "game_two_simulation()"
   ]
  },
  {
   "cell_type": "markdown",
   "metadata": {},
   "source": [
    "# Now let's run the same analysis but let's collect all of the results.\n",
    "\n",
    "Ultimately we are going to run a histogram of the results and check to see if the central limit theorem holds here. It should look normally distributed because what we have is a distribution of the means. \n"
   ]
  },
  {
   "cell_type": "code",
   "execution_count": 89,
   "metadata": {},
   "outputs": [],
   "source": [
    "def game_two_avg_collector(): \n",
    "    m_trials = 250\n",
    "    EV_collector = [] \n",
    "    \n",
    "    for i in range(m_trials): \n",
    "        EV_i = game_two_simulation()\n",
    "        EV_collector.append(EV_i) \n",
    "    \n",
    "    return EV_collector "
   ]
  },
  {
   "cell_type": "code",
   "execution_count": 90,
   "metadata": {},
   "outputs": [],
   "source": [
    "# this will take a while to load.. 500 * 1000 trials = 500,000 passes \n",
    "five_five_values = game_two_avg_collector()"
   ]
  },
  {
   "cell_type": "code",
   "execution_count": 92,
   "metadata": {},
   "outputs": [
    {
     "data": {
      "text/plain": [
       "(array([  1.,   0.,   1.,   2.,   3.,   3.,  15.,  13.,  20.,  17.,  34.,\n",
       "         33.,  23.,  17.,  16.,  24.,  11.,  12.,   2.,   3.]),\n",
       " array([ 37.489 ,  37.8816,  38.2742,  38.6668,  39.0594,  39.452 ,\n",
       "         39.8446,  40.2372,  40.6298,  41.0224,  41.415 ,  41.8076,\n",
       "         42.2002,  42.5928,  42.9854,  43.378 ,  43.7706,  44.1632,\n",
       "         44.5558,  44.9484,  45.341 ]),\n",
       " <a list of 20 Patch objects>)"
      ]
     },
     "execution_count": 92,
     "metadata": {},
     "output_type": "execute_result"
    },
    {
     "data": {
      "image/png": "[encoded data removed]",
      "text/plain": [
       "<matplotlib.figure.Figure at 0x110ede5c0>"
      ]
     },
     "metadata": {
      "needs_background": "light"
     },
     "output_type": "display_data"
    }
   ],
   "source": [
    "plt.hist(five_five_values, 20) # Cool, looks normally distributed."
   ]
  },
  {
   "cell_type": "code",
   "execution_count": 93,
   "metadata": {},
   "outputs": [
    {
     "name": "stdout",
     "output_type": "stream",
     "text": [
      "42.06715999999998\n"
     ]
    }
   ],
   "source": [
    "# Let's find the average of X_values \n",
    "average = sum(five_five_values)/len(five_five_values)\n",
    "print(average)"
   ]
  },
  {
   "cell_type": "markdown",
   "metadata": {},
   "source": [
    "# Cool, that looks normally distributed. Let's put them on the same histogram to get a better comparison.."
   ]
  },
  {
   "cell_type": "code",
   "execution_count": 94,
   "metadata": {},
   "outputs": [],
   "source": [
    "def game_one_avg_collector(): \n",
    "    m_trials = 250\n",
    "    EV_collector = [] \n",
    "    \n",
    "    for i in range(m_trials): \n",
    "        EV_i = game_one_simulation()\n",
    "        EV_collector.append(EV_i) \n",
    "    \n",
    "    return EV_collector"
   ]
  },
  {
   "cell_type": "code",
   "execution_count": 95,
   "metadata": {},
   "outputs": [],
   "source": [
    "five_six_values = game_one_avg_collector()"
   ]
  },
  {
   "cell_type": "code",
   "execution_count": 108,
   "metadata": {},
   "outputs": [
    {
     "data": {
      "image/png": "[encoded data removed]",
      "text/plain": [
       "<matplotlib.figure.Figure at 0x11249ab00>"
      ]
     },
     "metadata": {
      "needs_background": "light"
     },
     "output_type": "display_data"
    }
   ],
   "source": [
    "# Put the two distributions on the same distribution plot. \n",
    "plt.hist(five_five_values, 20, alpha = 0.5, label='five five', color = 'g')\n",
    "plt.hist(five_six_values, 20, alpha = 0.5, label ='five six', color = 'b')\n",
    "plt.legend(loc='upper right')\n",
    "plt.show()"
   ]
  },
  {
   "cell_type": "markdown",
   "metadata": {},
   "source": [
    "# Now those look clearly different!"
   ]
  },
  {
   "cell_type": "code",
   "execution_count": null,
   "metadata": {},
   "outputs": [],
   "source": []
  }
 ],
 "metadata": {
  "kernelspec": {
   "display_name": "Python 3",
   "language": "python",
   "name": "python3"
  },
  "language_info": {
   "codemirror_mode": {
    "name": "ipython",
    "version": 3
   },
   "file_extension": ".py",
   "mimetype": "text/x-python",
   "name": "python",
   "nbconvert_exporter": "python",
   "pygments_lexer": "ipython3",
   "version": "3.6.2"
  }
 },
 "nbformat": 4,
 "nbformat_minor": 2
}
