{
 "cells": [
  {
   "cell_type": "code",
   "execution_count": 3,
   "metadata": {},
   "outputs": [],
   "source": [
    "import numpy as np\n",
    "import random"
   ]
  },
  {
   "cell_type": "markdown",
   "metadata": {},
   "source": [
    "# Dice Simulation\n",
    "\n",
    "Alice wants to join her school's Probability Student Club. Membership dues are computed via one of two simple probabilistic games. The first game: roll a die repeatedly. Stop rolling once you get a five followed by a six. Your number of rolls is the amount you pay, in dollars. The second game: same, except that the stopping condition is a five followed by a five.\n",
    "\n",
    "Which of the two games should Alice elect to play? Does it even matter? Write a program to simulate the two games and calculate their expected value."
   ]
  },
  {
   "cell_type": "code",
   "execution_count": 93,
   "metadata": {},
   "outputs": [],
   "source": [
    "def game_one(): \n",
    "    tosses = [] \n",
    "    tosses = [random.choice([1,2,3,4,5,6])] # initialize with a toss\n",
    "    condition_met = True\n",
    "    \n",
    "    while condition_met: \n",
    "        \n",
    "        roll_result = random.choice([1,2,3,4,5,6]) \n",
    "        tosses.append(roll_result)\n",
    "        # tosses[-2] is the 2nd to last item in the list\n",
    "        # we just put in roll_result as the last item. \n",
    "        if tosses[-2] == 5 and roll_result == 6:    \n",
    "            condition_met = False\n",
    "    \n",
    "    num_tosses = len(tosses) \n",
    "    return num_tosses, tosses[-5:] # give me the last 5 in tosses"
   ]
  },
  {
   "cell_type": "code",
   "execution_count": 95,
   "metadata": {},
   "outputs": [
    {
     "data": {
      "text/plain": [
       "(49, [1, 6, 6, 5, 6])"
      ]
     },
     "execution_count": 95,
     "metadata": {},
     "output_type": "execute_result"
    }
   ],
   "source": [
    "game_one()"
   ]
  },
  {
   "cell_type": "code",
   "execution_count": 128,
   "metadata": {},
   "outputs": [],
   "source": [
    "def game_one_simulation(): \n",
    "    results = [] \n",
    "    \n",
    "    for i in range(1000): \n",
    "        num_tosses, _ = game_one() # we don't care about tosses[-5:] now\n",
    "        results.append(num_tosses) \n",
    "    \n",
    "    EV_game = sum(results)/len(results) \n",
    "    return EV_game"
   ]
  },
  {
   "cell_type": "code",
   "execution_count": 129,
   "metadata": {},
   "outputs": [
    {
     "data": {
      "text/plain": [
       "35.701"
      ]
     },
     "execution_count": 129,
     "metadata": {},
     "output_type": "execute_result"
    }
   ],
   "source": [
    "game_one_simulation()"
   ]
  },
  {
   "cell_type": "code",
   "execution_count": null,
   "metadata": {},
   "outputs": [],
   "source": []
  }
 ],
 "metadata": {
  "kernelspec": {
   "display_name": "Python 3",
   "language": "python",
   "name": "python3"
  },
  "language_info": {
   "codemirror_mode": {
    "name": "ipython",
    "version": 3
   },
   "file_extension": ".py",
   "mimetype": "text/x-python",
   "name": "python",
   "nbconvert_exporter": "python",
   "pygments_lexer": "ipython3",
   "version": "3.6.2"
  }
 },
 "nbformat": 4,
 "nbformat_minor": 2
}
