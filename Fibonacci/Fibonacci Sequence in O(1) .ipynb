{
 "cells": [
  {
   "cell_type": "markdown",
   "metadata": {},
   "source": [
    "# Implement fib(n)\n",
    "\n",
    "- Returns the n'th number in the Fibonacci sequence using O(1) space\n",
    "- What's a fib sequence? It's one that goes 0, 1, 1, 2, 3, 5, ... etc. "
   ]
  },
  {
   "cell_type": "code",
   "execution_count": 175,
   "metadata": {},
   "outputs": [],
   "source": [
    "def fib_basic(n: int): # cool n: int, not necessary but it specifies what can be put in\n",
    "    if n <= 1: \n",
    "        return n\n",
    "    else: \n",
    "        return fib_basic(n - 1) + fib_basic(n - 2) "
   ]
  },
  {
   "cell_type": "code",
   "execution_count": 176,
   "metadata": {},
   "outputs": [
    {
     "data": {
      "text/plain": [
       "6765"
      ]
     },
     "execution_count": 176,
     "metadata": {},
     "output_type": "execute_result"
    }
   ],
   "source": [
    "fib_basic(20)"
   ]
  },
  {
   "cell_type": "code",
   "execution_count": 177,
   "metadata": {},
   "outputs": [],
   "source": [
    "# you can reduce the number of calls by saving previous results in a cache. \n",
    "# if we've calculated fib(n) for some arbitrary n, return the value stored in the cache..\n",
    "\n",
    "cache = {0: 0, 1:1} # save previous results in a cache\n",
    "\n",
    "def fib(n: int): \n",
    "    \n",
    "    print(\"outside: right now n = \" + str(n))\n",
    "    \n",
    "    if n in cache:\n",
    "        print(\"*/*/*/* finally: n is in cache and n = \" + str(n))\n",
    "        print(\"*/*/*/* we have established a base case for this recursion\")\n",
    "        \n",
    "        return cache[n] # this is the base case still! \n",
    "    \n",
    "    else: \n",
    "        print(\"__inside else: right now n = \" + str(n))\n",
    "        print(\"__inside else: cache right now = \" + str(cache))\n",
    "        print(\"/\"*70)\n",
    "        cache[n] = fib(n-1) + fib(n-2) \n",
    "        print(\"-\"*70)\n",
    "        print(\"_____inside else: right now fib(n-1) = \" + str(fib(n-1)))\n",
    "        print(\"_____inside else: right now n = \" + str(n))\n",
    "        print(\"_____cache[n] right now is = \" + str(cache[n]))\n",
    "        print(\"__________after assigning, cache = \" + str(cache))\n",
    "        \n",
    "        return cache[n] "
   ]
  },
  {
   "cell_type": "code",
   "execution_count": 178,
   "metadata": {},
   "outputs": [
    {
     "name": "stdout",
     "output_type": "stream",
     "text": [
      "outside: right now n = 4\n",
      "__inside else: right now n = 4\n",
      "__inside else: cache right now = {0: 0, 1: 1}\n",
      "//////////////////////////////////////////////////////////////////////\n",
      "outside: right now n = 3\n",
      "__inside else: right now n = 3\n",
      "__inside else: cache right now = {0: 0, 1: 1}\n",
      "//////////////////////////////////////////////////////////////////////\n",
      "outside: right now n = 2\n",
      "__inside else: right now n = 2\n",
      "__inside else: cache right now = {0: 0, 1: 1}\n",
      "//////////////////////////////////////////////////////////////////////\n",
      "outside: right now n = 1\n",
      "*/*/*/* finally: n is in cache and n = 1\n",
      "*/*/*/* we have established a base case for this recursion\n",
      "outside: right now n = 0\n",
      "*/*/*/* finally: n is in cache and n = 0\n",
      "*/*/*/* we have established a base case for this recursion\n",
      "----------------------------------------------------------------------\n",
      "outside: right now n = 1\n",
      "*/*/*/* finally: n is in cache and n = 1\n",
      "*/*/*/* we have established a base case for this recursion\n",
      "_____inside else: right now fib(n-1) = 1\n",
      "_____inside else: right now n = 2\n",
      "_____cache[n] right now is = 1\n",
      "__________after assigning, cache = {0: 0, 1: 1, 2: 1}\n",
      "outside: right now n = 1\n",
      "*/*/*/* finally: n is in cache and n = 1\n",
      "*/*/*/* we have established a base case for this recursion\n",
      "----------------------------------------------------------------------\n",
      "outside: right now n = 2\n",
      "*/*/*/* finally: n is in cache and n = 2\n",
      "*/*/*/* we have established a base case for this recursion\n",
      "_____inside else: right now fib(n-1) = 1\n",
      "_____inside else: right now n = 3\n",
      "_____cache[n] right now is = 2\n",
      "__________after assigning, cache = {0: 0, 1: 1, 2: 1, 3: 2}\n",
      "outside: right now n = 2\n",
      "*/*/*/* finally: n is in cache and n = 2\n",
      "*/*/*/* we have established a base case for this recursion\n",
      "----------------------------------------------------------------------\n",
      "outside: right now n = 3\n",
      "*/*/*/* finally: n is in cache and n = 3\n",
      "*/*/*/* we have established a base case for this recursion\n",
      "_____inside else: right now fib(n-1) = 2\n",
      "_____inside else: right now n = 4\n",
      "_____cache[n] right now is = 3\n",
      "__________after assigning, cache = {0: 0, 1: 1, 2: 1, 3: 2, 4: 3}\n"
     ]
    },
    {
     "data": {
      "text/plain": [
       "3"
      ]
     },
     "execution_count": 178,
     "metadata": {},
     "output_type": "execute_result"
    }
   ],
   "source": [
    "fib(4)"
   ]
  },
  {
   "cell_type": "code",
   "execution_count": 179,
   "metadata": {},
   "outputs": [],
   "source": [
    "# Cleaner version without extra commentary\n",
    "cache = {0:0, 1:1}\n",
    "\n",
    "def fib_cache(n: int): \n",
    "    if n in cache: \n",
    "        return cache[n]\n",
    "    else: \n",
    "        cache[n] = fib_cache(n-1) + fib_cache(n-2) \n",
    "        return cache[n]"
   ]
  },
  {
   "cell_type": "code",
   "execution_count": 180,
   "metadata": {},
   "outputs": [
    {
     "data": {
      "text/plain": [
       "6765"
      ]
     },
     "execution_count": 180,
     "metadata": {},
     "output_type": "execute_result"
    }
   ],
   "source": [
    "fib_cache(20)"
   ]
  },
  {
   "cell_type": "code",
   "execution_count": 181,
   "metadata": {},
   "outputs": [
    {
     "name": "stdout",
     "output_type": "stream",
     "text": [
      "{0: 0, 1: 1, 3: 3}\n"
     ]
    }
   ],
   "source": [
    "# Brief reminder, you can assign into a dictionary this way\n",
    "cache = {0: 0, 1:1}\n",
    "cache[3] = 3\n",
    "print(cache)"
   ]
  },
  {
   "cell_type": "markdown",
   "metadata": {},
   "source": [
    "### This isn't constant space though... \n",
    "- Iterative solution is in constant space\n"
   ]
  },
  {
   "cell_type": "code",
   "execution_count": 182,
   "metadata": {},
   "outputs": [],
   "source": [
    "def fib_iterative(n:int):\n",
    "    if n <= 1: \n",
    "        return n\n",
    "    else: \n",
    "        a, b = 0, 1\n",
    "        for _ in range(n-1):\n",
    "            a, b = b, a + b\n",
    "        return b"
   ]
  },
  {
   "cell_type": "code",
   "execution_count": 183,
   "metadata": {},
   "outputs": [
    {
     "data": {
      "text/plain": [
       "6765"
      ]
     },
     "execution_count": 183,
     "metadata": {},
     "output_type": "execute_result"
    }
   ],
   "source": [
    "fib_iterative(20)"
   ]
  },
  {
   "cell_type": "markdown",
   "metadata": {},
   "source": [
    "### Possible to do O(1) time and space .. but uses a math solution.\n",
    "- This is more or less a trick, but still good to know."
   ]
  },
  {
   "cell_type": "code",
   "execution_count": 184,
   "metadata": {},
   "outputs": [],
   "source": [
    "from math import sqrt\n",
    "phi = (1 + sqrt(5))/2\n",
    "\n",
    "def fib_math(n: int): \n",
    "    return int(phi **n / sqrt(5) + 0.5)\n"
   ]
  },
  {
   "cell_type": "code",
   "execution_count": 185,
   "metadata": {},
   "outputs": [
    {
     "data": {
      "text/plain": [
       "6765"
      ]
     },
     "execution_count": 185,
     "metadata": {},
     "output_type": "execute_result"
    }
   ],
   "source": [
    "fib_math(20)"
   ]
  },
  {
   "cell_type": "markdown",
   "metadata": {},
   "source": [
    "# Speed Comparison\n",
    "- Visualize the difference between different algorithmic speeds\n",
    "- The naive recursion method should be the worst\n",
    "- The math method is in constant time and space and should be the fastest"
   ]
  },
  {
   "cell_type": "code",
   "execution_count": 186,
   "metadata": {},
   "outputs": [],
   "source": [
    "from timeit import default_timer as timer # timing module"
   ]
  },
  {
   "cell_type": "code",
   "execution_count": 188,
   "metadata": {},
   "outputs": [
    {
     "name": "stdout",
     "output_type": "stream",
     "text": [
      "fib basic takes 48.4959810670116\n",
      "fib with cache takes 8.183298632502556e-05\n",
      "fib iterative takes 8.434400660917163e-05\n",
      "fib math takes 7.97589891590178e-05\n"
     ]
    }
   ],
   "source": [
    "test_n = 40\n",
    "\n",
    "start = timer()\n",
    "fib_basic(test_n)\n",
    "elapsed_time = timer() - start\n",
    "print(\"fib basic takes \" + str(elapsed_time))\n",
    "\n",
    "start = timer()\n",
    "fib_cache(test_n)\n",
    "elapsed_time = timer() - start\n",
    "print(\"fib with cache takes \" + str(elapsed_time))\n",
    "\n",
    "start = timer()\n",
    "fib_iterative(test_n)\n",
    "elapsed_time = timer() - start\n",
    "print(\"fib iterative takes \" + str(elapsed_time))\n",
    "\n",
    "start = timer()\n",
    "fib_math(test_n)\n",
    "elapsed_time = timer() - start\n",
    "print(\"fib math takes \" + str(elapsed_time))\n"
   ]
  },
  {
   "cell_type": "code",
   "execution_count": 191,
   "metadata": {},
   "outputs": [
    {
     "name": "stdout",
     "output_type": "stream",
     "text": [
      "0\n",
      "1\n",
      "2\n",
      "3\n"
     ]
    }
   ],
   "source": [
    "def fib_speed_comparison(arr): \n",
    "    \n",
    "    N = len(arr)\n",
    "    \n",
    "    for i in range(N): "
   ]
  },
  {
   "cell_type": "code",
   "execution_count": null,
   "metadata": {},
   "outputs": [],
   "source": []
  }
 ],
 "metadata": {
  "kernelspec": {
   "display_name": "Python 3",
   "language": "python",
   "name": "python3"
  },
  "language_info": {
   "codemirror_mode": {
    "name": "ipython",
    "version": 3
   },
   "file_extension": ".py",
   "mimetype": "text/x-python",
   "name": "python",
   "nbconvert_exporter": "python",
   "pygments_lexer": "ipython3",
   "version": "3.6.2"
  }
 },
 "nbformat": 4,
 "nbformat_minor": 2
}
