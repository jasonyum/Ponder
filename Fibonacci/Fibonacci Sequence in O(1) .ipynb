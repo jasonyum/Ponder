{
 "cells": [
  {
   "cell_type": "markdown",
   "metadata": {},
   "source": [
    "# Implement fib(n)\n",
    "\n",
    "- Returns the n'th number in the Fibonacci sequence using O(1) space\n",
    "- What's a fib sequence? It's one that goes 0, 1, 1, 2, 3, 5, ... etc. "
   ]
  },
  {
   "cell_type": "code",
   "execution_count": 11,
   "metadata": {},
   "outputs": [],
   "source": [
    "# recursion\n",
    "def fib(n): # cool n: int, not necessary but it specifies what can be put in\n",
    "    if n <= 1: \n",
    "        return n\n",
    "    else: \n",
    "        return fib(n - 1) + fib(n - 2) # recursive step "
   ]
  },
  {
   "cell_type": "code",
   "execution_count": 12,
   "metadata": {},
   "outputs": [
    {
     "data": {
      "text/plain": [
       "-40.60000000000005"
      ]
     },
     "execution_count": 12,
     "metadata": {},
     "output_type": "execute_result"
    }
   ],
   "source": [
    "fib(10.1)"
   ]
  },
  {
   "cell_type": "code",
   "execution_count": 13,
   "metadata": {},
   "outputs": [],
   "source": [
    "def fib(n: int): # cool n: int, not necessary but it specifies what can be put in\n",
    "    if n <= 1: \n",
    "        return n\n",
    "    else: \n",
    "        return fib(n - 1) + fib(n - 2) "
   ]
  },
  {
   "cell_type": "code",
   "execution_count": 15,
   "metadata": {},
   "outputs": [
    {
     "data": {
      "text/plain": [
       "55"
      ]
     },
     "execution_count": 15,
     "metadata": {},
     "output_type": "execute_result"
    }
   ],
   "source": [
    "fib(10)"
   ]
  },
  {
   "cell_type": "code",
   "execution_count": 106,
   "metadata": {},
   "outputs": [],
   "source": [
    "# you can reduce the number of calls by saving previous results in a cache. \n",
    "# if we've calculated fib(n) for some arbitrary n, return the value stored in the cache..\n",
    "\n",
    "cache = {0: 0, 1:1} # save previous results in a cache\n",
    "\n",
    "def fib(n: int): \n",
    "    \n",
    "    print(\"outside: right now n = \" + str(n))\n",
    "    \n",
    "    if n in cache:\n",
    "        print(\"*/*/*/* finally: n is in cache and n = \" + str(n))\n",
    "        print(\"*/*/*/* we have established a base case for this recursion\")\n",
    "        return cache[n] # this is the base case still! \n",
    "    else: \n",
    "        print(\"__inside else: right now n = \" + str(n))\n",
    "        print(\"__inside else: cache right now = \" + str(cache))\n",
    "        print(\"/\"*70)\n",
    "        cache[n] = fib(n-1) + fib(n-2) \n",
    "        print(\"-\"*70)\n",
    "        print(\"_____inside else: right now fib(n-1) = \" + str(fib(n-1)))\n",
    "        print(\"_____inside else: right now n = \" + str(n))\n",
    "        print(\"_____cache[n] right now is = \" + str(cache[n]))\n",
    "        print(\"__________after assigning, cache = \" + str(cache))\n",
    "        return cache[n] "
   ]
  },
  {
   "cell_type": "code",
   "execution_count": 107,
   "metadata": {},
   "outputs": [
    {
     "name": "stdout",
     "output_type": "stream",
     "text": [
      "outside: right now n = 4\n",
      "__inside else: right now n = 4\n",
      "__inside else: cache right now = {0: 0, 1: 1}\n",
      "//////////////////////////////////////////////////////////////////////\n",
      "outside: right now n = 3\n",
      "__inside else: right now n = 3\n",
      "__inside else: cache right now = {0: 0, 1: 1}\n",
      "//////////////////////////////////////////////////////////////////////\n",
      "outside: right now n = 2\n",
      "__inside else: right now n = 2\n",
      "__inside else: cache right now = {0: 0, 1: 1}\n",
      "//////////////////////////////////////////////////////////////////////\n",
      "outside: right now n = 1\n",
      "*/*/*/* finally: n is in cache and n = 1\n",
      "*/*/*/* we have established a base case for this recursion\n",
      "outside: right now n = 0\n",
      "*/*/*/* finally: n is in cache and n = 0\n",
      "*/*/*/* we have established a base case for this recursion\n",
      "----------------------------------------------------------------------\n",
      "outside: right now n = 1\n",
      "*/*/*/* finally: n is in cache and n = 1\n",
      "*/*/*/* we have established a base case for this recursion\n",
      "_____inside else: right now fib(n-1) = 1\n",
      "_____inside else: right now n = 2\n",
      "_____cache[n] right now is = 1\n",
      "__________after assigning, cache = {0: 0, 1: 1, 2: 1}\n",
      "outside: right now n = 1\n",
      "*/*/*/* finally: n is in cache and n = 1\n",
      "*/*/*/* we have established a base case for this recursion\n",
      "----------------------------------------------------------------------\n",
      "outside: right now n = 2\n",
      "*/*/*/* finally: n is in cache and n = 2\n",
      "*/*/*/* we have established a base case for this recursion\n",
      "_____inside else: right now fib(n-1) = 1\n",
      "_____inside else: right now n = 3\n",
      "_____cache[n] right now is = 2\n",
      "__________after assigning, cache = {0: 0, 1: 1, 2: 1, 3: 2}\n",
      "outside: right now n = 2\n",
      "*/*/*/* finally: n is in cache and n = 2\n",
      "*/*/*/* we have established a base case for this recursion\n",
      "----------------------------------------------------------------------\n",
      "outside: right now n = 3\n",
      "*/*/*/* finally: n is in cache and n = 3\n",
      "*/*/*/* we have established a base case for this recursion\n",
      "_____inside else: right now fib(n-1) = 2\n",
      "_____inside else: right now n = 4\n",
      "_____cache[n] right now is = 3\n",
      "__________after assigning, cache = {0: 0, 1: 1, 2: 1, 3: 2, 4: 3}\n"
     ]
    },
    {
     "data": {
      "text/plain": [
       "3"
      ]
     },
     "execution_count": 107,
     "metadata": {},
     "output_type": "execute_result"
    }
   ],
   "source": [
    "fib(4)"
   ]
  },
  {
   "cell_type": "code",
   "execution_count": 68,
   "metadata": {},
   "outputs": [],
   "source": [
    "cache = {0: 0, 1:1}"
   ]
  },
  {
   "cell_type": "code",
   "execution_count": 58,
   "metadata": {},
   "outputs": [],
   "source": [
    "cache[3] = 3"
   ]
  },
  {
   "cell_type": "code",
   "execution_count": 59,
   "metadata": {},
   "outputs": [
    {
     "name": "stdout",
     "output_type": "stream",
     "text": [
      "{0: 0, 1: 1, 3: 3}\n"
     ]
    }
   ],
   "source": [
    "print(cache)"
   ]
  },
  {
   "cell_type": "code",
   "execution_count": null,
   "metadata": {},
   "outputs": [],
   "source": []
  }
 ],
 "metadata": {
  "kernelspec": {
   "display_name": "Python 3",
   "language": "python",
   "name": "python3"
  },
  "language_info": {
   "codemirror_mode": {
    "name": "ipython",
    "version": 3
   },
   "file_extension": ".py",
   "mimetype": "text/x-python",
   "name": "python",
   "nbconvert_exporter": "python",
   "pygments_lexer": "ipython3",
   "version": "3.6.2"
  }
 },
 "nbformat": 4,
 "nbformat_minor": 2
}
