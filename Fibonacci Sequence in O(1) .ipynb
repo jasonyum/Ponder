{
 "cells": [
  {
   "cell_type": "markdown",
   "metadata": {},
   "source": [
    "# Implement fib(n)\n",
    "\n",
    "- Returns the n'th number in the Fibonacci sequence using O(1) space\n",
    "- What's a fib sequence? It's one that goes 0, 1, 1, 2, 3, 5, ... etc. "
   ]
  },
  {
   "cell_type": "code",
   "execution_count": 11,
   "metadata": {},
   "outputs": [],
   "source": [
    "# recursion\n",
    "def fib(n): # cool n: int, not necessary but it specifies what can be put in\n",
    "    if n <= 1: \n",
    "        return n\n",
    "    else: \n",
    "        return fib(n - 1) + fib(n - 2) # recursive step "
   ]
  },
  {
   "cell_type": "code",
   "execution_count": 12,
   "metadata": {},
   "outputs": [
    {
     "data": {
      "text/plain": [
       "-40.60000000000005"
      ]
     },
     "execution_count": 12,
     "metadata": {},
     "output_type": "execute_result"
    }
   ],
   "source": [
    "fib(10.1)"
   ]
  },
  {
   "cell_type": "code",
   "execution_count": 13,
   "metadata": {},
   "outputs": [],
   "source": [
    "def fib(n: int): # cool n: int, not necessary but it specifies what can be put in\n",
    "    if n <= 1: \n",
    "        return n\n",
    "    else: \n",
    "        return fib(n - 1) + fib(n - 2) "
   ]
  },
  {
   "cell_type": "code",
   "execution_count": 15,
   "metadata": {},
   "outputs": [
    {
     "data": {
      "text/plain": [
       "55"
      ]
     },
     "execution_count": 15,
     "metadata": {},
     "output_type": "execute_result"
    }
   ],
   "source": [
    "fib(10)"
   ]
  },
  {
   "cell_type": "code",
   "execution_count": 47,
   "metadata": {},
   "outputs": [],
   "source": [
    "# you can reduce the number of calls by saving previous results in a cache. \n",
    "# if we've calculated fib(n) for some arbitrary n, return the value stored in the cache..\n",
    "\n",
    "cache = {0: 0, 1:1} # save previous results in a cache\n",
    "\n",
    "def fib(n: int): \n",
    "    \n",
    "    print(\"outside: right now n = \" + str(n))\n",
    "    \n",
    "    if n in cache:\n",
    "        print(\"*/*/*/* finally: n is in cache and is = \" + str(n))\n",
    "        return cache[n] # this is the base case still! \n",
    "    else: \n",
    "        print(\"___inside else: right now n = \" + str(n))\n",
    "        cache[n] = fib(n-1) + fib(n-2) # really nice, looks like it would return an error\n",
    "        print(\"___inside else: right now fib(n-1) = \" + str(fib(n-1)))\n",
    "        print(\"___cache[n] right now is = \" + str(cache[n]))\n",
    "        return cache[n] "
   ]
  },
  {
   "cell_type": "code",
   "execution_count": 48,
   "metadata": {},
   "outputs": [
    {
     "name": "stdout",
     "output_type": "stream",
     "text": [
      "outside: right now n = 6\n",
      "___inside else: right now n = 6\n",
      "outside: right now n = 5\n",
      "___inside else: right now n = 5\n",
      "outside: right now n = 4\n",
      "___inside else: right now n = 4\n",
      "outside: right now n = 3\n",
      "___inside else: right now n = 3\n",
      "outside: right now n = 2\n",
      "___inside else: right now n = 2\n",
      "outside: right now n = 1\n",
      "*/*/*/* finally: n is in cache and is = 1\n",
      "outside: right now n = 0\n",
      "*/*/*/* finally: n is in cache and is = 0\n",
      "outside: right now n = 1\n",
      "*/*/*/* finally: n is in cache and is = 1\n",
      "___inside else: right now fib(n-1) = 1\n",
      "___cache[n] right now is = 1\n",
      "outside: right now n = 1\n",
      "*/*/*/* finally: n is in cache and is = 1\n",
      "outside: right now n = 2\n",
      "*/*/*/* finally: n is in cache and is = 2\n",
      "___inside else: right now fib(n-1) = 1\n",
      "___cache[n] right now is = 2\n",
      "outside: right now n = 2\n",
      "*/*/*/* finally: n is in cache and is = 2\n",
      "outside: right now n = 3\n",
      "*/*/*/* finally: n is in cache and is = 3\n",
      "___inside else: right now fib(n-1) = 2\n",
      "___cache[n] right now is = 3\n",
      "outside: right now n = 3\n",
      "*/*/*/* finally: n is in cache and is = 3\n",
      "outside: right now n = 4\n",
      "*/*/*/* finally: n is in cache and is = 4\n",
      "___inside else: right now fib(n-1) = 3\n",
      "___cache[n] right now is = 5\n",
      "outside: right now n = 4\n",
      "*/*/*/* finally: n is in cache and is = 4\n",
      "outside: right now n = 5\n",
      "*/*/*/* finally: n is in cache and is = 5\n",
      "___inside else: right now fib(n-1) = 5\n",
      "___cache[n] right now is = 8\n"
     ]
    },
    {
     "data": {
      "text/plain": [
       "8"
      ]
     },
     "execution_count": 48,
     "metadata": {},
     "output_type": "execute_result"
    }
   ],
   "source": [
    "fib(6)"
   ]
  },
  {
   "cell_type": "code",
   "execution_count": null,
   "metadata": {},
   "outputs": [],
   "source": []
  },
  {
   "cell_type": "code",
   "execution_count": null,
   "metadata": {},
   "outputs": [],
   "source": []
  }
 ],
 "metadata": {
  "kernelspec": {
   "display_name": "Python 3",
   "language": "python",
   "name": "python3"
  },
  "language_info": {
   "codemirror_mode": {
    "name": "ipython",
    "version": 3
   },
   "file_extension": ".py",
   "mimetype": "text/x-python",
   "name": "python",
   "nbconvert_exporter": "python",
   "pygments_lexer": "ipython3",
   "version": "3.6.2"
  }
 },
 "nbformat": 4,
 "nbformat_minor": 2
}
