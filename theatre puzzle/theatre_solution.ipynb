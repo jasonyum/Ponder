{
 "cells": [
  {
   "cell_type": "code",
   "execution_count": 2,
   "metadata": {},
   "outputs": [],
   "source": [
    "import numpy as np\n",
    "import random"
   ]
  },
  {
   "cell_type": "code",
   "execution_count": 4,
   "metadata": {},
   "outputs": [
    {
     "data": {
      "text/plain": [
       "0.49664"
      ]
     },
     "execution_count": 4,
     "metadata": {},
     "output_type": "execute_result"
    }
   ],
   "source": [
    "# Initialize the count\n",
    "# total_exp represents the number of trials completed in this experiment. \n",
    "count = 0\n",
    "total_exp = 100000\n",
    "\n",
    "for x in range(total_exp):\n",
    "    \n",
    "    # The first person sits in a random chair. \n",
    "    # We initialize y as an array of zeros. \n",
    "    # Then, we assign the first person to a random seat. \n",
    "    \n",
    "    rand_start = np.random.randint(100)\n",
    "    y = np.zeros(100)\n",
    "    y[rand_start] = 1\n",
    "\n",
    "    for i in range(1,99):\n",
    "\n",
    "        # check if the seat is taken\n",
    "        if y[i] == 1: \n",
    "\n",
    "            # if it's taken, assign a new seat\n",
    "            # empty_seat_index is an array of all empty seat indices \n",
    "            empty_seat_index = np.where(y==0)[0] \n",
    "            \n",
    "            # Now we randomly assign a seat among the empty seats. \n",
    "            seat_assign = random.choice(empty_seat_index)\n",
    "            y[seat_assign] = 1\n",
    "\n",
    "        else: y[i] = 1\n",
    "\n",
    "    if y[99] == 0: \n",
    "        count += 1 \n",
    "        \n",
    "probability = count/total_exp\n",
    "probability"
   ]
  },
  {
   "cell_type": "code",
   "execution_count": null,
   "metadata": {},
   "outputs": [],
   "source": []
  },
  {
   "cell_type": "code",
   "execution_count": null,
   "metadata": {},
   "outputs": [],
   "source": []
  },
  {
   "cell_type": "code",
   "execution_count": null,
   "metadata": {},
   "outputs": [],
   "source": []
  }
 ],
 "metadata": {
  "kernelspec": {
   "display_name": "Python 3",
   "language": "python",
   "name": "python3"
  },
  "language_info": {
   "codemirror_mode": {
    "name": "ipython",
    "version": 3
   },
   "file_extension": ".py",
   "mimetype": "text/x-python",
   "name": "python",
   "nbconvert_exporter": "python",
   "pygments_lexer": "ipython3",
   "version": "3.6.2"
  }
 },
 "nbformat": 4,
 "nbformat_minor": 2
}
