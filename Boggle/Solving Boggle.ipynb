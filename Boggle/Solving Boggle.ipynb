{
 "cells": [
  {
   "cell_type": "markdown",
   "metadata": {},
   "source": [
    "# Boggle Solver\n",
    "\n",
    "Boggle is a game played on a 4 x 4 grid of letters. The goal is to find as many words as possible that can be formed by a sequence of adjacent letters in the grid, using each cell at most once. Given a game board and a dictionary of valid words, implement a Boggle solver.\n",
    "\n",
    "Example: \n",
    "\n",
    "```\n",
    "grid = [[\"a\", \"b\", \"c\", \"d\"],\n",
    "        [\"x\", \"a\", \"y\", \"z\"],\n",
    "        [\"t\", \"z\", \"r\", \"r\"],\n",
    "        [\"s\", \"q\", \"q\", \"q\"]]\n",
    "\n",
    "dictionary = ['bat', 'car', 'cat']\n",
    "```"
   ]
  },
  {
   "cell_type": "markdown",
   "metadata": {},
   "source": [
    "### Solution Ideas\n",
    "\n",
    "This is essentially a modified depth-first search on a graph whose vertices are the letters, and whose edges are links between adjacent letters. Searching a neighbor involves adding the new letter to the current word and checking to see if the word is in our dictionary. The only difference is that even when we form a word, we should continue searching; in the grid above, for example, we might want both cat and cats."
   ]
  },
  {
   "cell_type": "code",
   "execution_count": 1,
   "metadata": {},
   "outputs": [],
   "source": [
    "def get_neighbors(location, grid_size=4):\n",
    "    i, j = location\n",
    "    neighbors = [(i - 1, j - 1), (i - 1, j), (i - 1, j + 1),\n",
    "                 (i, j - 1), (i, j + 1),\n",
    "                 (i + 1, j - 1), (i + 1, j), (i + 1, j + 1)]\n",
    "\n",
    "    return [n for n in neighbors if 0 <= n[0] < grid_size and 0 <= n[1] < grid_size]\n",
    "\n",
    "def search(location, grid, visited, word, result, dictionary):\n",
    "    visited.add(location)\n",
    "    if word in dictionary:\n",
    "        result.add(word)\n",
    "\n",
    "    for neighbor in get_neighbors(location):\n",
    "        if neighbor not in visited:\n",
    "            word += grid[neighbor[0]][neighbor[1]]\n",
    "            search(neighbor, grid, visited, word, result, dictionary)\n",
    "            word = word[:-1]\n",
    "            visited.remove(neighbor)\n",
    "\n",
    "def boggle(grid, dictionary):\n",
    "    visited = set()\n",
    "    result = set()\n",
    "\n",
    "    for row in range(len(grid)):\n",
    "        for col in range(len(grid)):\n",
    "            word = grid[row][col]\n",
    "            search((row, col), grid, visited, word, result, dictionary)\n",
    "\n",
    "    return list(result)"
   ]
  },
  {
   "cell_type": "markdown",
   "metadata": {},
   "source": [
    "### Extra\n",
    "\n",
    "In the grid above, for example, our algorithm will search fifteen levels deep starting from the letter a, when there is not even a word in our dictionary beginning with a! One improvement, then, would be to only start searching from letters that also begin words in our dictionary. Still, we would have the same search explosion once we reach the second letter.\n",
    "\n",
    "One way to generalize this improvement to all levels is to convert our dictionary into a trie. With this data structure, we can know, for any prefix, the potential words that can be made starting with that prefix. As a result, we will only search adjacent letters that can help us form words, drastically reducing the search space.\n",
    "\n",
    "For example, using the word list from above, ['bat', 'car', 'cat'], our prefix trie would look like the following:\n",
    "\n",
    "```\n",
    "{'b': \n",
    "    {'a': \n",
    "        {'t': {'#': '#'}}}    \n",
    " 'c': \n",
    "     {'a': \n",
    "         {'r': {'#': '#'}, \n",
    "          't': {'#': '#'}}}}\n",
    "          ```"
   ]
  },
  {
   "cell_type": "code",
   "execution_count": 2,
   "metadata": {},
   "outputs": [],
   "source": [
    "def make_trie(words):\n",
    "    root = {}\n",
    "    for word in words:\n",
    "        current_dict = root\n",
    "        for letter in word:\n",
    "            current_dict = current_dict.setdefault(letter, {})\n",
    "        current_dict['#'] = '#'\n",
    "    return root"
   ]
  },
  {
   "cell_type": "markdown",
   "metadata": {},
   "source": [
    "The rest of our algorithm remains very similar, except that we make sure to check whether an adjacent letter exists in the trie before searching that path. In addition, storing our current word as a list, rather than a string, will allow us to more efficiently append and pop letters from it."
   ]
  },
  {
   "cell_type": "code",
   "execution_count": 3,
   "metadata": {},
   "outputs": [],
   "source": [
    "def search(location, grid, trie, visited, word, result):\n",
    "    visited.add(location)\n",
    "    letter = grid[location[0]][location[1]]\n",
    "    if '#' in trie[letter]:\n",
    "        result.add(''.join(word))\n",
    "\n",
    "    for neighbor in get_neighbors(location):\n",
    "        if neighbor not in visited:\n",
    "            row, col = neighbor\n",
    "            if grid[row][col] in trie[letter]:\n",
    "                subtrie = trie[letter]\n",
    "                word.append(grid[row][col])\n",
    "                search(neighbor, grid, subtrie, visited, word, result)\n",
    "                word.pop()\n",
    "                visited.remove(neighbor)\n",
    "\n",
    "def boggle(grid, trie):\n",
    "    visited = set()\n",
    "    result = set()\n",
    "\n",
    "    for row in range(len(grid)):\n",
    "        for col in range(len(grid)):\n",
    "            if grid[row][col] in trie:\n",
    "                word = [grid[row][col]]\n",
    "                search((row, col), grid, trie, visited, word, result)\n",
    "\n",
    "    return list(result)"
   ]
  },
  {
   "cell_type": "code",
   "execution_count": null,
   "metadata": {},
   "outputs": [],
   "source": []
  }
 ],
 "metadata": {
  "kernelspec": {
   "display_name": "Python 3",
   "language": "python",
   "name": "python3"
  },
  "language_info": {
   "codemirror_mode": {
    "name": "ipython",
    "version": 3
   },
   "file_extension": ".py",
   "mimetype": "text/x-python",
   "name": "python",
   "nbconvert_exporter": "python",
   "pygments_lexer": "ipython3",
   "version": "3.6.2"
  }
 },
 "nbformat": 4,
 "nbformat_minor": 2
}
